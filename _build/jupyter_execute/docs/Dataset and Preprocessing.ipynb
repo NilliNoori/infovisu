{
 "cells": [
  {
   "cell_type": "markdown",
   "id": "380d58dc-6efa-4c4f-8494-22229e7fdaf3",
   "metadata": {},
   "source": [
    "### Dataset and Preprocessing\n",
    "\n",
    "#### Contents\n",
    "- **Data Cleaning**\n",
    "- **Variable Descriptions**\n",
    "- **Aggregations**\n",
    "\n",
    "#### Data Cleaning\n",
    "\n",
    "We researched online and found the 2021 Global Nutrition Report, which included multiple datasets in the file `2021_Global_Nutrition_Report_Dataset_6YAamkd.xlsx`. From this report, we selected and merged the following relevant datasets: `country_dietary_needs.xlsx`, `country_economics.xlsx`, `country_adult.xlsx`, and `country_policy.xlsx`. In addition to these, we incorporated the dataset `Fat_Supply_Quantity_Data.csv`. These datasets provide comprehensive information on dietary needs, economic and demographic data, adult-related data, policy measures, and fat supply quantities for various countries.\n",
    "\n",
    "##### First Phase: Renaming and Restructuring Columns\n",
    "\n",
    "In the first phase, we addressed column conflicts by adding unique suffixes to the columns of each dataset. This ensured that there were no conflicting column names during the merge. We then read each dataset separately using the `pandas` library in Python.\n",
    "\n",
    "##### Second Phase: Merging and Normalizing\n",
    "\n",
    "In the second phase, we merged the datasets based on the common columns `iso3` and `country`. To remove duplicates and normalize the data, we aggregated numerical columns by taking their means and retained the first value for categorical columns. This allowed us to obtain a single row per country, containing all relevant merged information.\n",
    "\n",
    "#### Variable Descriptions\n",
    "\n",
    "The final dataset includes a wide range of variables, including:\n",
    "\n",
    "- **Dietary-related variables**: such as Fruit, Vegetables, Legumes, Nuts, Whole grains, Fish, Dairy, Red meat.\n",
    "- **Economic and demographic variables**: such as Population, GDP, etc.\n",
    "- **Adult-related variables**: such as Age, BMI, etc.\n",
    "- **Policy-related variables**: such as policy measures like salt policy, sugar tax, etc.\n",
    "- **Fat-related variables**: such as Alcoholic Beverages, Animal Products, Animal fats, etc.\n",
    "\n",
    "#### Aggregations\n",
    "\n",
    "The data was aggregated at the country level to obtain a single record per country. For numerical values, we calculated the means, while for categorical values, we retained the first non-null value. This ensured that the final dataset is comprehensive and cohesive, ready for further analysis and visualization.\n",
    "\n",
    "For example:\n",
    "\n",
    "- **Numerical aggregation**: For columns like `Fruit` and `Vegetables`, we calculated the mean.\n",
    "- **Categorical aggregation**: For policy information like `fbdg` (Food-Based Dietary Guidelines), we retained the first non-null value.\n",
    "\n",
    "### Final Result\n",
    "\n",
    "The resulting dataset provides a comprehensive view of various aspects of dietary and policy information per country, and is now ready for further analysis and visualization."
   ]
  }
 ],
 "metadata": {
  "kernelspec": {
   "display_name": "Python 3 (ipykernel)",
   "language": "python",
   "name": "python3"
  },
  "language_info": {
   "codemirror_mode": {
    "name": "ipython",
    "version": 3
   },
   "file_extension": ".py",
   "mimetype": "text/x-python",
   "name": "python",
   "nbconvert_exporter": "python",
   "pygments_lexer": "ipython3",
   "version": "3.10.14"
  }
 },
 "nbformat": 4,
 "nbformat_minor": 5
}