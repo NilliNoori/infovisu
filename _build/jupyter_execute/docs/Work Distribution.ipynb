{
 "cells": [
  {
   "cell_type": "markdown",
   "id": "004acee4-d861-454b-8220-455e2a4d17aa",
   "metadata": {},
   "source": [
    "## Work Distribution\n",
    "\n",
    "### Nilli\n",
    "**Role: Project Coordinator and Data Specialist**\n",
    "- **Data Collection and Cleaning**:\n",
    "  - Collect and clean datasets from various sources for the years covered in the study.\n",
    "  - Ensure data accuracy and consistency across all years.\n",
    "- **Data Merging**:\n",
    "  - Merge datasets into a single comprehensive dataset.\n",
    "- **Graph Creation**:\n",
    "  - Assist in the initial creation of visualizations.\n",
    "- **Documentation**:\n",
    "  - Take notes during meetings and maintain a clear overview of everyone's responsibilities.\n",
    "\n",
    "### Naritsarakon\n",
    "**Role: Data Analyst and Presenter**\n",
    "- **Data Analysis**:\n",
    "  - Conduct detailed data analysis to uncover trends and insights related to economic prosperity, dietary habits, and health outcomes.\n",
    "- **Visualization**:\n",
    "  - Develop and refine graphs to effectively communicate the findings.\n",
    "- **Storyline Development**:\n",
    "  - Collaborate with Kate to develop a coherent and compelling narrative for the data story.\n",
    "- **Presentation**:\n",
    "  - Present the project during peer reviews and feedback sessions.\n",
    "\n",
    "### Kate\n",
    "**Role: Researcher and Storyline Developer**\n",
    "- **Literature Review**:\n",
    "  - Conduct a comprehensive review of existing research to support the data story.\n",
    "  - Identify relevant studies and papers that highlight the impact of economic factors on dietary habits and health outcomes.\n",
    "- **Storyline Development**:\n",
    "  - Take the lead in crafting the initial draft of the narrative.\n",
    "  - Ensure the storyline is supported by data and research findings.\n",
    "- **Graph Refinement**:\n",
    "  - Work on improving the visualizations for clarity and impact.\n",
    "\n",
    "### Talisha\n",
    "**Role: Visualization Expert and Documentation Specialist**\n",
    "- **Visualization**:\n",
    "  - Take primary responsibility for creating and polishing the visual elements of the data story.\n",
    "  - Ensure all graphs and charts are clear, accurate, and visually appealing.\n",
    "- **Peer Feedback**:\n",
    "  - Present the project during peer feedback sessions and incorporate suggestions for improvement.\n",
    "- **Work Distribution Documentation**:\n",
    "  - Document the work distribution and ensure that all contributions are properly acknowledged.\n",
    "\n",
    "## Collaboration\n",
    "- **Seminars and Meetings**:\n",
    "  - All team members will participate in regular seminars, meetings, and additional consultations to discuss progress, challenges, and next steps.\n",
    "- **Review and Refinement**:\n",
    "  - Continuously review and refine both the data analysis and the narrative to ensure a high-quality final product.\n",
    "- **Final Presentation**:\n",
    "  - Collaborate to prepare the final presentation, ensuring that each member's contributions are highlighted."
   ]
  }
 ],
 "metadata": {
  "kernelspec": {
   "display_name": "Python 3 (ipykernel)",
   "language": "python",
   "name": "python3"
  },
  "language_info": {
   "codemirror_mode": {
    "name": "ipython",
    "version": 3
   },
   "file_extension": ".py",
   "mimetype": "text/x-python",
   "name": "python",
   "nbconvert_exporter": "python",
   "pygments_lexer": "ipython3",
   "version": "3.10.14"
  }
 },
 "nbformat": 4,
 "nbformat_minor": 5
}