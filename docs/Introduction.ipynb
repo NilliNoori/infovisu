{
 "cells": [
  {
   "cell_type": "markdown",
   "id": "37fbd0c2-13eb-4c2a-9b7b-0ff858eea0ee",
   "metadata": {},
   "source": [
    "### Introduction\n",
    "\n",
    "In recent years, promoting healthy eating habits has become a focal point for public health officials worldwide. As lifestyle-related chronic diseases such as obesity, hypertension, and cardiovascular diseases continue to rise, there is an increasing need for effective public health campaigns. These campaigns aim to educate the population on the benefits of nutritious diets and encourage healthier dietary choices.\n",
    "\n",
    "This data story will explore the impact of different factors on dietary habits and health outcomes across different countries. Using comprehensive data that includes dietary intake, GDP per capita, and the presence of specific health policies, we will analyze how these factors correlate with the prevalence of chronic diseases. We will examine this topic from the perspectives of economic prosperity and the role of health policies and public health initiatives in shaping dietary choices and health outcomes.\n",
    "\n",
    "### Authors\n",
    "\n",
    "- Kate Cheung\n",
    "- Naritsarakon Khongcharern\n",
    "- Nilli Noori\n",
    "- Talishe Thode"
   ]
  }
 ],
 "metadata": {
  "kernelspec": {
   "display_name": "Python 3 (ipykernel)",
   "language": "python",
   "name": "python3"
  },
  "language_info": {
   "codemirror_mode": {
    "name": "ipython",
    "version": 3
   },
   "file_extension": ".py",
   "mimetype": "text/x-python",
   "name": "python",
   "nbconvert_exporter": "python",
   "pygments_lexer": "ipython3",
   "version": "3.10.12"
  }
 },
 "nbformat": 4,
 "nbformat_minor": 5
}
